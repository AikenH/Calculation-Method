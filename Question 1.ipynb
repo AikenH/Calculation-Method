{
 "cells": [
  {
   "cell_type": "markdown",
   "metadata": {},
   "source": [
    "# Question1：海底电缆（多项式拟合&数值积分）  \n",
    "## Part 1：对数据点进行曲线拟合  \n",
    "27个数据点，次数太低难以较好的拟合，如果次数过高的话又容易出现龙格现象，所以比较好的解决方式就是分段插值，那么要选分段几次插值呢？（思考一下写起来麻烦不，不就写出来对比，麻烦就直接上分段3次样条插值）"
   ]
  },
  {
   "cell_type": "code",
   "execution_count": 2,
   "metadata": {},
   "outputs": [],
   "source": [
    "import numpy as np\n",
    "import matplotlib.pyplot as plt \n",
    "import pandas as pd "
   ]
  },
  {
   "cell_type": "markdown",
   "metadata": {},
   "source": [
    "### Action 1 读取探测点和深度的数据  \n",
    "这一行是一张图片，等下插图换"
   ]
  },
  {
   "cell_type": "code",
   "execution_count": 28,
   "metadata": {},
   "outputs": [],
   "source": [
    "x = np.arange(0,54,2)\n",
    "y = np.array([0,4.01,6.96,7.96,7.97,8.02,9.05,10.13,11.18,12.26,13.28,12.61,10.22,7.90,7.95,8.86,10.80,10.93,\n",
    "             11.23,11.30,10.94,10.10,9.54,8.30,7.30,2.50,0.20])\n",
    "\n",
    "# 判断x，y的维度是否相等，如果不等就报出指定的data size错误\n",
    "assert x.size == y.size, \"the origin data is wrong. having different size\" "
   ]
  },
  {
   "cell_type": "markdown",
   "metadata": {},
   "source": [
    "### Action 2 分别用几种插值法对数据进行拟合 \n",
    "算了，做一个最有用的就好（刚好写起来也是最麻烦的），其他的有时间再说。  \n",
    "很明显，避免\n",
    "- 龙格现象（~~多项式插值~~），\n",
    "- 分段插值的不连续（~~线性.二次也没法保证连续~~） \n",
    "\n",
    "误差比较大，得不偿失的情况.\n",
    "又用到27个数据点的话->**三次样条插值**  \n",
    "some point:  \n",
    "- 带状矩阵求解（追赶法函数）\n",
    "- 显示最终结果的图"
   ]
  },
  {
   "cell_type": "code",
   "execution_count": null,
   "metadata": {},
   "outputs": [],
   "source": [
    "def CubicSI(datax,datay):\n",
    "    "
   ]
  }
 ],
 "metadata": {
  "kernelspec": {
   "display_name": "Python 3",
   "language": "python",
   "name": "python3"
  },
  "language_info": {
   "codemirror_mode": {
    "name": "ipython",
    "version": 3
   },
   "file_extension": ".py",
   "mimetype": "text/x-python",
   "name": "python",
   "nbconvert_exporter": "python",
   "pygments_lexer": "ipython3",
   "version": "3.7.4"
  }
 },
 "nbformat": 4,
 "nbformat_minor": 4
}
