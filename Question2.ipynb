{
 "cells": [
  {
   "cell_type": "markdown",
   "metadata": {},
   "source": [
    "# 西安温度最小二乘法"
   ]
  },
  {
   "cell_type": "markdown",
   "metadata": {},
   "source": [
    "这题直接用法方程法的话，会比较好算，但是如果数据量大的话好像直接求解误差比较大  \n",
    "如果要求比较精确的解的话，似乎需要**QR)(正交化方法**？我这里要不要用呢？  \n",
    "也可以直接调用函数库就是：我**先用传统的求法**算一下，然后**和库函数匹配**一下，**不一致**的话再用**QR**  \n",
    "**结果还挺好的，那就不写QR了** \n",
    "### What still need to do:\n",
    "- 优化输出ui 用占位符表示\n"
   ]
  },
  {
   "cell_type": "code",
   "execution_count": 3,
   "metadata": {},
   "outputs": [],
   "source": [
    "import numpy as np \n",
    "import pandas as pd \n",
    "import matplotlib.pyplot as plt \n",
    "from scipy.linalg import solve"
   ]
  },
  {
   "cell_type": "markdown",
   "metadata": {},
   "source": [
    "### part1 导入数据部分，首先用excel进行了简单的分列，便于后续数据的利用\n",
    "**IN THIS PART**  \n",
    "- 首先要计算每日的平均气温\n",
    "- 然后最小二乘拟合出每个月的均气温曲线\n",
    "       这一部分需要注意一下到底是用法方程法直接做还是用QR\n",
    "- 接着通过连续函数求平均算出每个月的平均气温并绘图"
   ]
  },
  {
   "cell_type": "code",
   "execution_count": 4,
   "metadata": {},
   "outputs": [
    {
     "data": {
      "text/plain": [
       "array([[28. , 28. , 27. , 28. , 27.5, 27.5, 27.5, 21. , 23.5, 24.5, 26. ,\n",
       "        25. , 28.5, 30. , 30.5, 25. , 23. , 23.5, 25.5, 27.5, 30. , 23.5,\n",
       "        28. , 29. , 30. , 31. , 31.5, 33. , 27.5, 27.5, 29.5],\n",
       "       [30.5, 29. , 25. , 28. , 27. , 23.5, 26. , 27.5, 23.5, 27. , 28. ,\n",
       "        27. , 29. , 28. , 29.5, 31. , 29. , 29.5, 29.5, 27. , 24.5, 25.5,\n",
       "        25.5, 27.5, 27.5, 25. , 22.5, 23.5, 25. , 23.5,  0. ],\n",
       "       [23. , 21.5, 23.5, 24. , 21. , 24.5, 25.5, 25.5, 27.5, 25.5, 21. ,\n",
       "        23. , 23. , 16.5, 13. , 14.5, 17.5, 16. , 17. , 17. , 18.5, 17. ,\n",
       "        20. , 19. , 18.5, 20.5, 20.5, 20.5, 21. , 21.5, 23.5]])"
      ]
     },
     "execution_count": 4,
     "metadata": {},
     "output_type": "execute_result"
    }
   ],
   "source": [
    "# 读取文件，计算每日的平均气温\n",
    "io = r'temperature.xlsx' #注意将表格方在同个文件夹中，不然要写绝对地址\n",
    "d = pd.read_excel(io,sheet_name='Sheet1',usecols=[1,2],converters={'max':float, 'min':float}) #读取文件\n",
    "# 求出7，8，9月每天的平均温度，用于后续的曲线最小二乘拟合改写\n",
    "Average = np.zeros([3,31])\n",
    "for i in range(30):\n",
    "    Average[0][i] = (d['max'][i] + d['min'][i])/2\n",
    "    Average[1][i] = (d['max'][i+31] + d['min'][i+31])/2\n",
    "    Average[2][i] = (d['max'][i+61] + d['min'][i+61])/2\n",
    "Average[0][30] = (d['max'][30] + d['min'][30])/2\n",
    "Average[2][30] = (d['max'][91] + d['min'][91])/2\n",
    "\n",
    "Average"
   ]
  },
  {
   "cell_type": "markdown",
   "metadata": {},
   "source": [
    "### 最小二乘分解函数"
   ]
  },
  {
   "cell_type": "code",
   "execution_count": 5,
   "metadata": {},
   "outputs": [],
   "source": [
    "# 最小2×拟合函数编写。1次，2次，3次\n",
    "def myl(x,y,k=1):\n",
    "# k=1,y = a + bx,g=[1,x] \n",
    "    if k == 1: \n",
    "        g = np.ones([x.size,2])\n",
    "        for i in range(x.size):\n",
    "            g[i,1] = x[i]\n",
    "# k=2 y=a+bx+cx*x\n",
    "    elif k == 2:\n",
    "        g = np.ones([x.size,3])\n",
    "        for i in range(x.size):\n",
    "            g[i,1]=x[i]\n",
    "            g[i,2]=np.square(x[i])\n",
    "# k=3 y=a+bx+cx*x+dx*xxx\n",
    "    elif k == 3:\n",
    "        g = np.ones([x.size,4])\n",
    "        for i in range(x.size):\n",
    "            g[i,1]=x[i]\n",
    "            g[i,2]=np.square(x[i])\n",
    "            g[i,3]=pow(x[i],3)\n",
    "# g*g'a=g'y\n",
    "    G = np.transpose(g)\n",
    "    y_solve = np.dot(G,y)\n",
    "    y_solve = np.transpose(y_solve)\n",
    "    A = np.dot(G,g)\n",
    "    para = solve(A,y_solve)\n",
    "#     print(para)\n",
    "    \n",
    "    return para "
   ]
  },
  {
   "cell_type": "markdown",
   "metadata": {},
   "source": [
    "### 数值积分求均值(这里积分直接手撕表达式就行)"
   ]
  },
  {
   "cell_type": "code",
   "execution_count": 6,
   "metadata": {},
   "outputs": [],
   "source": [
    "def interfunc(x,para,k):\n",
    "    if k == 1 :\n",
    "        ans = para[0]*x + para[1]*x*x*0.5\n",
    "    elif k == 2:\n",
    "        ans = para[0]*x + para[1]*x*x*0.5 + para[2]*x*x*x/3\n",
    "    elif k == 3:\n",
    "        ans = para[0]*x + para[1]*x*x*0.5 + para[2]*x*x*x/3 + para[3]*x*x*x*x/4\n",
    "    return ans"
   ]
  },
  {
   "cell_type": "markdown",
   "metadata": {},
   "source": [
    "### 数值代入"
   ]
  },
  {
   "cell_type": "code",
   "execution_count": 8,
   "metadata": {},
   "outputs": [
    {
     "name": "stdout",
     "output_type": "stream",
     "text": [
      "26.392549028082687\n"
     ]
    },
    {
     "data": {
      "image/png": "[encoded data removed]",
      "text/plain": [
       "<Figure size 432x288 with 1 Axes>"
      ]
     },
     "metadata": {
      "needs_background": "light"
     },
     "output_type": "display_data"
    }
   ],
   "source": [
    "# 将各个月的数据输入进行拟合计算\n",
    "k = 2\n",
    "input_x = np.arange(1,32)\n",
    "para = myl(input_x,Average[0][:],k)\n",
    "\n",
    "def fucx(x,para,k):\n",
    "    if k == 1 :\n",
    "        ans = para[0]+para[1]*x\n",
    "    elif k == 2:\n",
    "        ans = para[0]+para[1]*x+para[2]*x*x\n",
    "    elif k == 3:\n",
    "        ans = para[0]+para[1]*x+para[2]*x*x+para[3]*x*x*x\n",
    "    return ans\n",
    "\n",
    "x_plot = np.linspace(0,31,3000)\n",
    "y_plot = np.array([fucx(t,para,k) for t in x_plot])\n",
    "\n",
    "plt.axis('scaled')\n",
    "plt.xlim((0,31))\n",
    "plt.ylim((15,40))\n",
    "plt.scatter(input_x,Average[0][:])\n",
    "plt.plot(x_plot,y_plot)\n",
    "\n",
    "Ans = interfunc(31,para,k)-interfunc(1,para,k)\n",
    "Ans = Ans/31\n",
    "print(Ans)"
   ]
  }
 ],
 "metadata": {
  "kernelspec": {
   "display_name": "Python 3",
   "language": "python",
   "name": "python3"
  },
  "language_info": {
   "codemirror_mode": {
    "name": "ipython",
    "version": 3
   },
   "file_extension": ".py",
   "mimetype": "text/x-python",
   "name": "python",
   "nbconvert_exporter": "python",
   "pygments_lexer": "ipython3",
   "version": "3.7.4"
  }
 },
 "nbformat": 4,
 "nbformat_minor": 4
}
