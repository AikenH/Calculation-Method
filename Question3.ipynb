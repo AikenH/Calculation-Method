{
 "cells": [
  {
   "cell_type": "markdown",
   "metadata": {},
   "source": [
    "# 电影票房拟合（插值）和预测（数值积分）"
   ]
  },
  {
   "cell_type": "code",
   "execution_count": 1,
   "metadata": {},
   "outputs": [],
   "source": [
    "import numpy as np \n",
    "import pandas as pd \n",
    "import matplotlib.pyplot as plt\n",
    "import scipy.interpolate as spi\n",
    "from scipy.linalg import solve"
   ]
  },
  {
   "cell_type": "code",
   "execution_count": 12,
   "metadata": {},
   "outputs": [],
   "source": [
    "# 票房数据单位 万/周\n",
    "weekZL_x = np.arange(12)\n",
    "weekZL_y = np.array([99681.0, 217126.0, 140241.0, 56448.0, 26080.0, 17194.0, 5564.0,\n",
    "                    2289.0, 1197.0, 619.0, 1029.0, 210.0])\n",
    "assert weekZL_x.size == weekZL_y.size, \"the size of ZL data is wrong\"\n",
    "weekLL_x = np.arange(13)\n",
    "weekLL_y = np.array([202074.0, 177540.0, 56644.0, 17872.0, 6617.0, 2514.0, 1100.0,\n",
    "                    462.0, 289.0, 127.0, 150.0, 41.0, 47.0]) \n",
    "assert weekLL_x.size == weekLL_y.size, \"the size of LL data is wrong\""
   ]
  },
  {
   "cell_type": "markdown",
   "metadata": {},
   "source": [
    "### 选择插值方法，并编写插值函数（第一题写的插值方法就可以用感觉）"
   ]
  },
  {
   "cell_type": "code",
   "execution_count": 18,
   "metadata": {},
   "outputs": [],
   "source": [
    "# lar = spi.lagrange(weekZL_x,weekZL_y)\n",
    "# xx = np.linspace(0,12,1000)\n",
    "# plt.plot(xx,lar(xx))\n",
    "# # 龙格现象，不能用，多项式插值\n",
    "# 我决定用插值法和最小二乘法算出曲线函数，然后用最小二乘法进行数值积分\n",
    "def myl(x,y,k=1):\n",
    "    # k=1,y = a + bx,g=[1,x] \n",
    "    if k == 1: \n",
    "        g = np.ones([x.size,2])\n",
    "        for i in range(x.size):\n",
    "            g[i,1] = x[i]\n",
    "            # k=2 y=a+bx+cx*x\n",
    "    elif k == 2:\n",
    "        g = np.ones([x.size,3])\n",
    "        for i in range(x.size):\n",
    "            g[i,1]=x[i]\n",
    "            g[i,2]=np.square(x[i])\n",
    "            # k=3 y=a+bx+cx*x+dx*xxx\n",
    "    elif k == 3:\n",
    "        g = np.ones([x.size,4])\n",
    "        for i in range(x.size):\n",
    "            g[i,1]=x[i]\n",
    "            g[i,2]=np.square(x[i])\n",
    "            g[i,3]=pow(x[i],3)\n",
    "            # g*g'a=g'y\n",
    "    G = np.transpose(g)\n",
    "    y_solve = np.dot(G,y)\n",
    "    y_solve = np.transpose(y_solve)\n",
    "    A = np.dot(G,g)\n",
    "    para = solve(A,y_solve)\n",
    "    #     print(para)\n",
    "    return para\n",
    "\n",
    "def fucx(x,para,k):\n",
    "    if k == 1 :\n",
    "        ans = para[0]+para[1]*x\n",
    "    elif k == 2:\n",
    "        ans = para[0]+para[1]*x+para[2]*x*x\n",
    "    elif k == 3:\n",
    "        ans = para[0]+para[1]*x+para[2]*x*x+para[3]*x*x*x\n",
    "    return ans\n"
   ]
  },
  {
   "cell_type": "code",
   "execution_count": 20,
   "metadata": {},
   "outputs": [
    {
     "data": {
      "text/plain": [
       "[<matplotlib.lines.Line2D at 0x14de0c08248>]"
      ]
     },
     "execution_count": 20,
     "metadata": {},
     "output_type": "execute_result"
    },
    {
     "data": {
      "image/png": "[encoded data removed]",
      "text/plain": [
       "<Figure size 432x288 with 1 Axes>"
      ]
     },
     "metadata": {
      "needs_background": "light"
     },
     "output_type": "display_data"
    }
   ],
   "source": [
    "k = 2 \n",
    "para = myl(weekLL_x,weekLL_y,k)\n",
    "x_plot = np.linspace(0,13,10000)\n",
    "y_plot = np.array([fucx(t,para,k) for t in x_plot])\n",
    "\n",
    "# plt.axis('scaled')\n",
    "plt.scatter(weekLL_x,weekLL_y)\n",
    "plt.plot(x_plot,y_plot)"
   ]
  },
  {
   "cell_type": "markdown",
   "metadata": {},
   "source": [
    "### 三次样条插值法\n",
    "还有一些**和h，和size相关的**应该写成**超参数**，在后续修改的时候会方便得多"
   ]
  },
  {
   "cell_type": "code",
   "execution_count": 13,
   "metadata": {},
   "outputs": [],
   "source": [
    "def Chasing(a,b,c,d,show=True):\n",
    "# 初始化系数矩阵\n",
    "# 仅支持上下宽为1的追赶法，后续可能需要修改一下这个方法。\n",
    "    l = np.zeros(a.size)\n",
    "    u = np.zeros(b.size)\n",
    "    y = np.ones(d.size)\n",
    "    M = np.zeros(y.size)\n",
    "    u[0] = b[0]\n",
    "    y[0] = d[0]\n",
    "# 求出系数矩阵\n",
    "    for i in range(l.size):\n",
    "        l[i] = a[i]/u[i]\n",
    "        u[i+1] = b[i+1]-l[i]*c[i]\n",
    "# 求解Ly=d\n",
    "    for i in range(1,y.size):\n",
    "        y[i] = d[i]-y[i-1]*l[i-1]\n",
    "# 求解UM=y\n",
    "    M[M.size-1] = y[y.size-1]/u[y.size-1]\n",
    "    for i in range(M.size-2,-1,-1):\n",
    "        M[i] = (y[i]-c[i]*M[i+1])/u[i]\n",
    "# 控制参数显示\n",
    "    if show==True:\n",
    "        ShowAns(l,u,c,M)\n",
    "    return M\n",
    "\n",
    "# 结果展示函数\n",
    "def ShowAns(l,u,c,M):\n",
    "    print('*****************l**********')\n",
    "    print(l)\n",
    "    print('*****************u**********')\n",
    "    print(u)\n",
    "    print('*****************c**********')\n",
    "    print(c)\n",
    "    print('*****************M**********')\n",
    "    print(M)\n",
    "    pass"
   ]
  },
  {
   "cell_type": "markdown",
   "metadata": {},
   "source": [
    "### 针对与特定问题的三次样条插值设置\n"
   ]
  },
  {
   "cell_type": "code",
   "execution_count": 16,
   "metadata": {},
   "outputs": [],
   "source": [
    "# 三次样条插值part\n",
    "Dimension = weekLL_x.size -2 \n",
    "h = 1 \n",
    "Diag = 2*np.ones(Dimension)\n",
    "ld = 0.5*np.ones(Dimension-1)\n",
    "u3 = 0.5*np.ones(Dimension-1)\n",
    "# 通过差商求出自然边界条件下的d的各项值\n",
    "# 这一部分和上面那一部分讲道理可以改写成函数的。\n",
    "d = np.zeros(Dimension)\n",
    "for i in range(Dimension):\n",
    "    d[i] = 3*(weekLL_y[i+2]-2*weekLL_y[i+1]+weekLL_y[i])\n",
    "    pass\n",
    "# print(d)"
   ]
  },
  {
   "cell_type": "code",
   "execution_count": 17,
   "metadata": {},
   "outputs": [
    {
     "data": {
      "text/plain": [
       "<matplotlib.collections.PathCollection at 0x14de0bb6248>"
      ]
     },
     "execution_count": 17,
     "metadata": {},
     "output_type": "execute_result"
    },
    {
     "data": {
      "image/png": "[encoded data removed]",
      "text/plain": [
       "<Figure size 432x288 with 1 Axes>"
      ]
     },
     "metadata": {
      "needs_background": "light"
     },
     "output_type": "display_data"
    }
   ],
   "source": [
    "# 然后建立样条分段函数\n",
    "# 并绘制图像\n",
    "# 求出M\n",
    "fake_M = Chasing(u3,Diag,ld,d,False)\n",
    "M = np.zeros(fake_M.size+2)\n",
    "M[1:M.size-1] = fake_M\n",
    "\n",
    "# 建立三次样条插值函数（分段）\n",
    "def MSpline3(data_x,data_y,M,h,x):\n",
    "    assert x >= 0, \"the x value is undefind(wrong)\"\n",
    "    index = x + 1\n",
    "    index = int(index)\n",
    "    if index>=12: index=12\n",
    "    V1 = pow(data_x[index]-x,3)*M[index-1]/6 \n",
    "    V2 = pow(x-data_x[index-1],3)*M[index]/6\n",
    "    V3 = (data_y[index-1]-M[index-1]/6)*(data_x[index]-x)\n",
    "    V4 = (data_y[index]-M[index]/6)*(x-data_x[index-1])\n",
    "    return V1+V2+V3+V4\n",
    "\n",
    "# 绘制三次样条插值后的图像\n",
    "x_plot = np.linspace(0,13,1000)\n",
    "y_plot = np.array([MSpline3(weekLL_x,weekLL_y,M,h,t) for t in x_plot])\n",
    "LineLens = 0\n",
    "\n",
    "plt.plot(x_plot,y_plot)\n",
    "plt.scatter(weekLL_x,weekLL_y)"
   ]
  },
  {
   "cell_type": "markdown",
   "metadata": {},
   "source": [
    "### 变上限积分求解超过50e的时间\n",
    "** KEY METHOD**  \n",
    "- 数值积分方法(折衷一下，用复化simpson求积公式)\n",
    "- 变上限积分\n",
    "- 最小二乘拟合的函数/三次样条插值的最后一段函数（趋于平缓，近似同化？）"
   ]
  },
  {
   "cell_type": "code",
   "execution_count": 9,
   "metadata": {},
   "outputs": [],
   "source": [
    "# def my2ChIntegral(func,x_plot,threshold=500000,k=3):\n",
    "#     Ans = 0\n",
    "#     h = x_plot[1] - x_plot[0]\n",
    "#     for i in range(x_plot.size-1):\n",
    "#         Value1 = func(x_plot[i],para,k) + func(x_plot[i+1],para,k)\n",
    "#         temp = (x_plot[i]+x_plot[i+1])/2\n",
    "#         Value2 = func(temp,para,k)\n",
    "#         Ans = Ans + (Value1 + 4*Value2)*h/6  \n",
    "#     print(Ans)\n",
    "# #     先算出目前的总和，然后用while控制变上限积分\n",
    "#     index = x_plot.size - 1 \n",
    "#     x_1 = x_plot[index]\n",
    "#     x_2 = x_plot[index] + h\n",
    "#     times = 0\n",
    "#     while(Ans<threshold):\n",
    "#         Value1 = func(x_1,para,k) + func(x_2,para,k)\n",
    "#         temp = (x_1+x_2)/2\n",
    "#         Value2 = func(temp,para,k)\n",
    "#         Ans = Ans + (Value1 + 4*Value2)*h/6\n",
    "#         x_1 = x_2\n",
    "#         x_2 = x_2 + h\n",
    "#         times = times+1\n",
    "#         if times > 5000: \n",
    "#             return x_2\n",
    "#         pass\n",
    "#     return x_2"
   ]
  },
  {
   "cell_type": "code",
   "execution_count": 10,
   "metadata": {},
   "outputs": [],
   "source": [
    "# # Ans=my2ChIntegral(fucx,x_plot)\n",
    "# Ans = my2ChIntegral(MSpline3(weekLL_x,weekLL_y,M,h,))\n",
    "# Ans"
   ]
  },
  {
   "cell_type": "code",
   "execution_count": 11,
   "metadata": {},
   "outputs": [
    {
     "name": "stdout",
     "output_type": "stream",
     "text": [
      "486651.6425037561\n",
      "78.09109109109103\n",
      "78.09109109109103\n"
     ]
    }
   ],
   "source": [
    "def my3ChIntegral(func,x_plot,threshold=500000):\n",
    "    Ans = 0 \n",
    "    h = x_plot[1]-x_plot[0]\n",
    "    for i in range(x_plot.size-1):\n",
    "        Value1 = func(weekLL_x,weekLL_y,M,h,x_plot[i]) + func(weekLL_x,weekLL_y,M,h,x_plot[i+1])\n",
    "        temp = (x_plot[i]+x_plot[i+1])/2\n",
    "        Value2 = func(weekLL_x,weekLL_y,M,h,temp)\n",
    "        Ans = Ans + (Value1 + 4*Value2)*h/6  \n",
    "#     print(Ans)\n",
    "    index = x_plot.size -1 \n",
    "    x_1 = x_plot[index]\n",
    "    x_2 = x_plot[index] + h\n",
    "    times = 0 \n",
    "    while(Ans<threshold):\n",
    "        Value1 = func(weekLL_x,weekLL_y,M,h,x_1) + func(weekLL_x,weekLL_y,M,h,x_2)\n",
    "        temp = (x_1+x_2)/2\n",
    "        Value2 = func(weekLL_x,weekLL_y,M,h,temp)\n",
    "        Ans = Ans + (Value1 + 4*Value2)*h/6\n",
    "        x_1 = x_2\n",
    "        x_2 = x_2 + h\n",
    "        times = times+1\n",
    "        if times > 5000: \n",
    "#             print(x_2)\n",
    "            break\n",
    "    print(x_2)\n",
    "    return x_2\n",
    "Ans = my3ChIntegral(MSpline3,x_plot)"
   ]
  },
  {
   "cell_type": "code",
   "execution_count": null,
   "metadata": {},
   "outputs": [],
   "source": []
  }
 ],
 "metadata": {
  "kernelspec": {
   "display_name": "Python 3",
   "language": "python",
   "name": "python3"
  },
  "language_info": {
   "codemirror_mode": {
    "name": "ipython",
    "version": 3
   },
   "file_extension": ".py",
   "mimetype": "text/x-python",
   "name": "python",
   "nbconvert_exporter": "python",
   "pygments_lexer": "ipython3",
   "version": "3.7.4"
  }
 },
 "nbformat": 4,
 "nbformat_minor": 4
}
