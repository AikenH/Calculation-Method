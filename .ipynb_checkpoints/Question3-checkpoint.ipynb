{
 "cells": [
  {
   "cell_type": "markdown",
   "metadata": {},
   "source": [
    "# 电影票房拟合（插值）和预测（数值积分）"
   ]
  },
  {
   "cell_type": "code",
   "execution_count": 3,
   "metadata": {},
   "outputs": [],
   "source": [
    "import numpy as np \n",
    "import pandas as pd \n",
    "import matplotlib.pyplot as plt"
   ]
  },
  {
   "cell_type": "code",
   "execution_count": 10,
   "metadata": {},
   "outputs": [],
   "source": [
    "# 票房数据单位 万/周\n",
    "weekZL_x = np.arange(12)\n",
    "weekZL_y = np.array([99681.0, 217126.0, 140241.0, 56448.0, 26080.0, 17194.0, 5564.0,\n",
    "                    2289.0, 1197.0, 619.0, 1029.0, 210.0])\n",
    "assert weekZL_x.size == weekZL_y.size, \"the size of ZL data is wrong\"\n",
    "weekLL_x = np.arange(13)\n",
    "weekLL_y = np.array([202074.0, 177540.0, 56644.0, 17872.0, 6617.0, 2514.0, 1100.0,\n",
    "                    462.0, 289.0, 127.0, 150.0, 41.0, 47.0]) \n",
    "assert weekLL_x.size == weekLL_y.size, \"the size of LL data is wrong\""
   ]
  },
  {
   "cell_type": "markdown",
   "metadata": {},
   "source": [
    "### 选择插值方法，并编写插值函数（第一题写的插值方法就可以用感觉）"
   ]
  },
  {
   "cell_type": "code",
   "execution_count": null,
   "metadata": {},
   "outputs": [],
   "source": []
  },
  {
   "cell_type": "code",
   "execution_count": null,
   "metadata": {},
   "outputs": [],
   "source": []
  }
 ],
 "metadata": {
  "kernelspec": {
   "display_name": "Python 3",
   "language": "python",
   "name": "python3"
  },
  "language_info": {
   "codemirror_mode": {
    "name": "ipython",
    "version": 3
   },
   "file_extension": ".py",
   "mimetype": "text/x-python",
   "name": "python",
   "nbconvert_exporter": "python",
   "pygments_lexer": "ipython3",
   "version": "3.7.4"
  }
 },
 "nbformat": 4,
 "nbformat_minor": 4
}
