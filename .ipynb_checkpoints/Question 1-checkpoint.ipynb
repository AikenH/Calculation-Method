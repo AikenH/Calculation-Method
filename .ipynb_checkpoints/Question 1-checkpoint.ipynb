{
 "cells": [
  {
   "cell_type": "code",
   "execution_count": 134,
   "metadata": {},
   "outputs": [],
   "source": [
    "import numpy as np\n",
    "import matplotlib.pyplot as plt \n",
    "import pandas as pd "
   ]
  },
  {
   "cell_type": "markdown",
   "metadata": {},
   "source": [
    "### Action 1 读取探测点和深度的数据  \n",
    "这一行是一张图片，等下插图换"
   ]
  },
  {
   "cell_type": "code",
   "execution_count": 135,
   "metadata": {},
   "outputs": [],
   "source": [
    "x = np.arange(0,54,2)\n",
    "y = np.array([0,4.01,6.96,7.96,7.97,8.02,9.05,10.13,11.18,12.26,13.28,12.61,10.22,7.90,7.95,8.86,10.80,10.93,\n",
    "             11.23,11.30,10.94,10.10,9.54,8.30,7.30,2.50,0.20])\n",
    "y = -y \n",
    "\n",
    "# 判断x，y的维度是否相等，如果不等就报出指定的data size错误\n",
    "assert x.size == y.size, \"the origin data is wrong. having different size\" "
   ]
  },
  {
   "cell_type": "markdown",
   "metadata": {},
   "source": [
    "### Action 2 分别用几种插值法对数据进行拟合 \n",
    "写一个最有用的，其他的用库函数调用对比结果。  \n",
    "很明显，避免\n",
    "- 龙格现象（~~多项式插值~~），\n",
    "- 分段插值的不连续（~~线性.二次也没法保证连续~~） \n",
    "\n",
    "误差比较大，得不偿失的情况.\n",
    "又用到27个数据点的话->**三次样条插值**  \n",
    "some point:  \n",
    "- 带状矩阵求解（追赶法函数）\n",
    "- 显示最终结果的图"
   ]
  },
  {
   "cell_type": "markdown",
   "metadata": {},
   "source": [
    "### 上下宽度都是1的追赶法求解函数方程"
   ]
  },
  {
   "cell_type": "code",
   "execution_count": 137,
   "metadata": {},
   "outputs": [],
   "source": [
    "def Chasing(a,b,c,d,show=True):\n",
    "# 初始化系数矩阵\n",
    "    l = np.zeros(a.size)\n",
    "    u = np.zeros(b.size)\n",
    "    y = np.ones(d.size)\n",
    "    M = np.zeros(y.size)\n",
    "    u[0] = b[0]\n",
    "    y[0] = d[0]\n",
    "# 求出系数矩阵\n",
    "    for i in range(l.size):\n",
    "        l[i] = a[i]/u[i]\n",
    "        u[i+1] = b[i+1]-l[i]*c[i]\n",
    "# 求解Ly=d\n",
    "    for i in range(1,y.size):\n",
    "        y[i] = d[i]-y[i-1]*l[i-1]\n",
    "# 求解UM=y\n",
    "    M[M.size-1] = y[y.size-1]/u[y.size-1]\n",
    "    for i in range(M.size-2,-1,-1):\n",
    "        M[i] = (y[i]-c[i]*M[i+1])/u[i]\n",
    "# 控制参数显示\n",
    "    if show==True:\n",
    "        ShowAns(l,u,c,M)\n",
    "    return M\n",
    "\n",
    "# 结果展示函数\n",
    "def ShowAns(l,u,c,M):\n",
    "    print('*****************l**********')\n",
    "    print(l)\n",
    "    print('*****************u**********')\n",
    "    print(u)\n",
    "    print('*****************c**********')\n",
    "    print(c)\n",
    "    print('*****************M**********')\n",
    "    print(M)\n",
    "    pass"
   ]
  },
  {
   "cell_type": "markdown",
   "metadata": {},
   "source": [
    "### 三次样条插值法（设置为自然边界法Mo=Mn=0）"
   ]
  },
  {
   "cell_type": "code",
   "execution_count": 136,
   "metadata": {},
   "outputs": [],
   "source": [
    "#  in this question, we know that h == 2\n",
    "# 矩阵维度计算\n",
    "Dimension = x.size-2 \n",
    "# 由于本题的特殊性，dig=2，lamda=0.5=u,在此处就不需要考虑和原数字的index对位的问题了\n",
    "# 后面还是需要考虑的\n",
    "h = 2\n",
    "Diag = 2*np.ones(Dimension)\n",
    "ld = 0.5*np.ones(Dimension-1)\n",
    "u3 = 0.5*np.ones(Dimension-1)\n",
    "# 通过差商求出自然边界条件下的d的各项值\n",
    "d = np.zeros(Dimension)\n",
    "for i in range(Dimension):\n",
    "    d[i] = 0.75*(y[i+2]-2*y[i+1]+y[i])\n",
    "    pass\n",
    "# print(d)"
   ]
  },
  {
   "cell_type": "markdown",
   "metadata": {},
   "source": [
    "### main（），将求解参数带入追赶法进行求解"
   ]
  },
  {
   "cell_type": "code",
   "execution_count": 154,
   "metadata": {},
   "outputs": [
    {
     "name": "stdout",
     "output_type": "stream",
     "text": [
      "*************************\n",
      "66.50717836457528\n"
     ]
    },
    {
     "data": {
      "text/plain": [
       "[<matplotlib.lines.Line2D at 0x1ff8cc1a588>]"
      ]
     },
     "execution_count": 154,
     "metadata": {},
     "output_type": "execute_result"
    },
    {
     "data": {
      "image/png": "[encoded data removed]",
      "text/plain": [
       "<Figure size 432x288 with 1 Axes>"
      ]
     },
     "metadata": {
      "needs_background": "light"
     },
     "output_type": "display_data"
    }
   ],
   "source": [
    "# 然后建立样条分段函数\n",
    "# 并绘制图像\n",
    "\n",
    "# 求出M\n",
    "fake_M = Chasing(u3,Diag,ld,d,False)\n",
    "M = np.zeros(fake_M.size+2)\n",
    "M[1:M.size-1] = fake_M\n",
    "# print(M)\n",
    "\n",
    "# 建立三次样条插值函数（分段）\n",
    "def MSpline3(data_x,data_y,M,h,x):\n",
    "    assert x >= 0, \"the x value is undefind(wrong)\"\n",
    "    index = x//2 + 1 \n",
    "    index = int(index)\n",
    "    if index==27: index=26\n",
    "    V1 = pow(data_x[index]-x,3)*M[index-1]/12 \n",
    "    V2 = pow(x-data_x[index-1],3)*M[index]/12\n",
    "    V3 = (data_y[index-1]-4*M[index-1]/6)*(data_x[index]-x)/2\n",
    "    V4 = (data_y[index]-4*M[index]/6)*(x-data_x[index-1])/2\n",
    "    return V1+V2+V3+V4\n",
    "# 绘制三次样条插值后的图像\n",
    "x_plot = np.linspace(0,52,5000)\n",
    "y_plot = np.array([MSpline3(x,y,M,h,t) for t in x_plot])\n",
    "\n",
    "LineLens = 0\n",
    "# Part2 不是数值积分，是局部线性化，数值积分是求面积的，憨憨\n",
    "for i in range(len(x_plot)-1):\n",
    "    temp= np.square(x_plot[i+1]-x_plot[i])+np.square(y_plot[i+1]-y_plot[i])\n",
    "    V = np.sqrt(temp)\n",
    "    LineLens = LineLens + V\n",
    "print('*************************')\n",
    "print(LineLens)\n",
    "\n",
    "plt.axis('scaled')\n",
    "plt.xlim((0,54))\n",
    "plt.ylim((-15,0))\n",
    "\n",
    "plt.plot(x_plot,y_plot)\n"
   ]
  },
  {
   "cell_type": "markdown",
   "metadata": {},
   "source": [
    "### Action3 计算近似长度\n",
    "打扰了，**不是数值积分**，数值积分是计算面积的，我们要计算的是长度，局部线性化就可以了。"
   ]
  },
  {
   "cell_type": "code",
   "execution_count": 153,
   "metadata": {},
   "outputs": [
    {
     "name": "stdout",
     "output_type": "stream",
     "text": [
      "4999\n"
     ]
    },
    {
     "data": {
      "text/plain": [
       "range(0, 4999)"
      ]
     },
     "execution_count": 153,
     "metadata": {},
     "output_type": "execute_result"
    }
   ],
   "source": [
    "print(len(x_plot)-1)\n",
    "range(len(x_plot)-1)\n",
    "xpl"
   ]
  },
  {
   "cell_type": "markdown",
   "metadata": {},
   "source": [
    "### 调用库函数测试和结果对比part"
   ]
  },
  {
   "cell_type": "code",
   "execution_count": 14,
   "metadata": {},
   "outputs": [],
   "source": [
    "import scipy.interpolate as spi"
   ]
  },
  {
   "cell_type": "code",
   "execution_count": null,
   "metadata": {},
   "outputs": [],
   "source": []
  },
  {
   "cell_type": "code",
   "execution_count": 66,
   "metadata": {},
   "outputs": [
    {
     "data": {
      "text/plain": [
       "[<matplotlib.lines.Line2D at 0x1ff8a788f08>]"
      ]
     },
     "execution_count": 66,
     "metadata": {},
     "output_type": "execute_result"
    },
    {
     "data": {
      "image/png": "[encoded data removed]",
      "text/plain": [
       "<Figure size 432x288 with 1 Axes>"
      ]
     },
     "metadata": {
      "needs_background": "light"
     },
     "output_type": "display_data"
    }
   ],
   "source": [
    "'''part 线性插值和二次插值（分段）'''\n",
    "# 这区别也太小了，看不太出来啊，那就简单分析一下不放图了\n",
    "# \n",
    "# 线性插值的部分\n",
    "x_new = np.linspace(0,52,500)\n",
    "f_linear = spi.interp1d(x,y)\n",
    "\n",
    "plt.subplot(2,1,1)\n",
    "plt.axis('scaled')\n",
    "plt.xlim((0,54))\n",
    "plt.ylim((-15,0))\n",
    "plt.plot(x_new,f_linear(x_new))\n",
    "\n",
    "# 二次插值的部分\n",
    "x_new2 = spi.splrep(x,y,k=3)\n",
    "square_func = spi.splev(x,x_new2)\n",
    "\n",
    "plt.subplot(2,1,2)\n",
    "plt.axis('scaled')\n",
    "plt.xlim((0,54))\n",
    "plt.ylim((-15,0))\n",
    "plt.plot(x,square_func)"
   ]
  },
  {
   "cell_type": "code",
   "execution_count": 82,
   "metadata": {},
   "outputs": [
    {
     "data": {
      "text/plain": [
       "[<matplotlib.lines.Line2D at 0x1ff8bd0f848>]"
      ]
     },
     "execution_count": 82,
     "metadata": {},
     "output_type": "execute_result"
    },
    {
     "data": {
      "image/png": "[encoded data removed]",
      "text/plain": [
       "<Figure size 432x288 with 1 Axes>"
      ]
     },
     "metadata": {
      "needs_background": "light"
     },
     "output_type": "display_data"
    }
   ],
   "source": [
    "# spi.lagrange?\n",
    "# it seems like this function isn't a steable function,maybe we need to writ this function by ourself\n",
    "Lar = spi.lagrange(x,y)\n",
    "xx = np.linspace(-1,52,500)\n",
    "plt.plot(xx, Lar(xx))"
   ]
  },
  {
   "cell_type": "code",
   "execution_count": 148,
   "metadata": {},
   "outputs": [
    {
     "ename": "SyntaxError",
     "evalue": "invalid syntax (<ipython-input-148-40a5c7fd67b2>, line 1)",
     "output_type": "error",
     "traceback": [
      "\u001b[1;36m  File \u001b[1;32m\"<ipython-input-148-40a5c7fd67b2>\"\u001b[1;36m, line \u001b[1;32m1\u001b[0m\n\u001b[1;33m    5>0?5+1\u001b[0m\n\u001b[1;37m       ^\u001b[0m\n\u001b[1;31mSyntaxError\u001b[0m\u001b[1;31m:\u001b[0m invalid syntax\n"
     ]
    }
   ],
   "source": []
  },
  {
   "cell_type": "code",
   "execution_count": null,
   "metadata": {},
   "outputs": [],
   "source": []
  }
 ],
 "metadata": {
  "kernelspec": {
   "display_name": "Python 3",
   "language": "python",
   "name": "python3"
  },
  "language_info": {
   "codemirror_mode": {
    "name": "ipython",
    "version": 3
   },
   "file_extension": ".py",
   "mimetype": "text/x-python",
   "name": "python",
   "nbconvert_exporter": "python",
   "pygments_lexer": "ipython3",
   "version": "3.7.4"
  }
 },
 "nbformat": 4,
 "nbformat_minor": 4
}
